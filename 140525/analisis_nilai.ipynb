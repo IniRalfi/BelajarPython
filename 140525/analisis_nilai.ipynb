{
 "cells": [
  {
   "cell_type": "code",
   "execution_count": null,
   "metadata": {},
   "outputs": [],
   "source": [
    "data_nilai_siswa = [\n",
    "    [\"Rafli\", 90, 85, \"N/A\", 92], \n",
    "    [\"Budi\", 78, \"absen\", 88, 80], \n",
    "    [\"Cinta\", 100, 95, 98, 99],\n",
    "    [\"Dewi\", 70, 75, 68, 72]\n",
    "]\n",
    "siswa_terbaik = []\n",
    "\n",
    "if len(data_nilai_siswa) <= 0:\n",
    "  raise ValueError('data nilai mahasiswa tidak boleh kosong')\n",
    "\n",
    "for siswa in data_nilai_siswa : \n",
    "  nama_siswa = siswa[0]\n",
    "  print(f'Menganalisis Nilai dari {nama_siswa}.....')\n",
    "  total = 0\n",
    "  nilai_valid = 0\n",
    "  for nilai in siswa : \n",
    "    try:\n",
    "      total += nilai\n",
    "    except:\n",
    "      pass\n",
    "    else:\n",
    "      nilai_valid += 1\n",
    "  rata_rata = total/nilai_valid\n",
    "  if rata_rata >= 85 :\n",
    "    siswa_terbaik.append(nama_siswa)\n",
    "  print(f'Nama siswa : {nama_siswa}\\nTotal Nilai : {total}\\nRata-rata : {rata_rata}\\n')\n",
    "\n",
    "print(f'Mahasiswa terbaik : {siswa_terbaik}')"
   ]
  },
  {
   "cell_type": "code",
   "execution_count": 2,
   "metadata": {},
   "outputs": [
    {
     "name": "stdout",
     "output_type": "stream",
     "text": [
      "Analisis selesai untuk Rafli, rata-rata: 89.00\n",
      "Analisis selesai untuk Budi, rata-rata: 82.00\n",
      "Analisis selesai untuk Cinta, rata-rata: 98.00\n",
      "Analisis selesai untuk Dewi, rata-rata: 71.25\n",
      "\n",
      "---\n",
      "Siswa dengan nilai rata-rata di atas 85: ['Rafli', 'Cinta']\n"
     ]
    }
   ],
   "source": [
    "# Versi AI\n",
    "\n",
    "data_nilai_siswa = [\n",
    "    [\"Rafli\", 90, 85, \"N/A\", 92], \n",
    "    [\"Budi\", 78, \"absen\", 88, 80], \n",
    "    [\"Cinta\", 100, 95, 98, 99],\n",
    "    [\"Dewi\", 70, 75, 68, 72]\n",
    "]\n",
    "\n",
    "# 1. Menangani Data Kosong\n",
    "if not data_nilai_siswa:\n",
    "    raise ValueError('Data nilai siswa tidak boleh kosong')\n",
    "hasil_analisis = []\n",
    "\n",
    "# 2. Nested Loop dengan Perbaikan\n",
    "for data_siswa in data_nilai_siswa: \n",
    "    nama_siswa = data_siswa[0]\n",
    "    total_nilai = 0\n",
    "    jumlah_nilai_valid = 0\n",
    "\n",
    "    for nilai in data_siswa[1:]: \n",
    "        try:\n",
    "            total_nilai += int(nilai)\n",
    "            jumlah_nilai_valid += 1\n",
    "        except (ValueError, TypeError):\n",
    "            # Mengabaikan nilai yang tidak bisa diubah ke angka\n",
    "            pass\n",
    "    \n",
    "    \n",
    "    if jumlah_nilai_valid > 0:\n",
    "        rata_rata = total_nilai / jumlah_nilai_valid\n",
    "    else:\n",
    "        rata_rata = 0\n",
    "\n",
    "    hasil_analisis.append({\"nama\": nama_siswa, \"rata_rata\": rata_rata})\n",
    "    print(f\"Analisis selesai untuk {nama_siswa}, rata-rata: {rata_rata:.2f}\")\n",
    "\n",
    "print(\"\\n---\")\n",
    "siswa_terbaik = [\n",
    "    siswa[\"nama\"] \n",
    "    for siswa in hasil_analisis \n",
    "    if siswa[\"rata_rata\"] > 85\n",
    "]\n",
    "\n",
    "print(f\"Siswa dengan nilai rata-rata di atas 85: {siswa_terbaik}\")\n",
    "\n",
    "def printTest():\n",
    "    print('Test')"
   ]
  },
  {
   "cell_type": "code",
   "execution_count": null,
   "metadata": {},
   "outputs": [],
   "source": []
  }
 ],
 "metadata": {
  "kernelspec": {
   "display_name": "Python 3",
   "language": "python",
   "name": "python3"
  },
  "language_info": {
   "codemirror_mode": {
    "name": "ipython",
    "version": 3
   },
   "file_extension": ".py",
   "mimetype": "text/x-python",
   "name": "python",
   "nbconvert_exporter": "python",
   "pygments_lexer": "ipython3",
   "version": "3.12.3"
  },
  "orig_nbformat": 4
 },
 "nbformat": 4,
 "nbformat_minor": 2
}
