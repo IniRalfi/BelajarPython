{
 "cells": [
  {
   "cell_type": "code",
   "execution_count": null,
   "id": "5e56a9b0",
   "metadata": {},
   "outputs": [
    {
     "name": "stdout",
     "output_type": "stream",
     "text": [
      "Ini aku baru tahu kalau string bisa begini\n",
      "qkwkwkwkwkwk kayak bisa multi line\n",
      "lebih rapi juga \n",
      "['I', 'n', 'i', ' ', 'a', 'k', 'u', ' ', 'b', 'a', 'r', 'u', ' ', 't', 'a', 'h', 'u', ' ', 'k', 'a', 'l', 'a', 'u', ' ', 's', 't', 'r', 'i', 'n', 'g', ' ', 'b', 'i', 's', 'a', ' ', 'b', 'e', 'g', 'i', 'n', 'i', '\\n', 'q', 'k', 'w', 'k', 'w', 'k', 'w', 'k', 'w', 'k', 'w', 'k', ' ', 'k', 'a', 'y', 'a', 'k', ' ', 'b', 'i', 's', 'a', ' ', 'm', 'u', 'l', 't', 'i', ' ', 'l', 'i', 'n', 'e', '\\n', 'l', 'e', 'b', 'i', 'h', ' ', 'r', 'a', 'p', 'i', ' ', 'j', 'u', 'g', 'a', ' ']\n",
      "94\n"
     ]
    }
   ],
   "source": [
    "a = '''Ini aku baru tahu kalau string bisa begini\n",
    "qkwkwkwkwkwk kayak bisa multi line\n",
    "lebih rapi juga '''\n",
    "\n",
    "print(a)\n",
    "\n",
    "b = list(a)\n",
    "print(b)\n",
    "print(len(b))\n"
   ]
  }
 ],
 "metadata": {
  "kernelspec": {
   "display_name": "Python (Jupyter)",
   "language": "python",
   "name": "jupyter"
  },
  "language_info": {
   "codemirror_mode": {
    "name": "ipython",
    "version": 3
   },
   "file_extension": ".py",
   "mimetype": "text/x-python",
   "name": "python",
   "nbconvert_exporter": "python",
   "pygments_lexer": "ipython3",
   "version": "3.12.3"
  }
 },
 "nbformat": 4,
 "nbformat_minor": 5
}
